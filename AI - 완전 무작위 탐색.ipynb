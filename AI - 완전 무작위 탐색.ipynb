{
 "cells": [
  {
   "cell_type": "code",
   "execution_count": 153,
   "id": "08d7bfff",
   "metadata": {},
   "outputs": [],
   "source": [
    "import numpy as np\n",
    "import random as r\n",
    "\n",
    "cities = []\n",
    "sol= []\n",
    "\n",
    "# 유클리디언 거리 계산\n",
    "def distance(a, b):\n",
    "    dist = np.linalg.norm(np.array(a)-np.array(b))\n",
    "    return dist"
   ]
  },
  {
   "cell_type": "code",
   "execution_count": 154,
   "id": "fe7e6747",
   "metadata": {},
   "outputs": [],
   "source": [
    "# 좌표 값 csv 파일 받아와 cities에 저장\n",
    "with open('2023_AI_TSP.csv', mode='r', newline='', encoding='utf-8-sig') as tsp:\n",
    "    rd = csv.reader(tsp)\n",
    "    for row in rd:\n",
    "        cities.append(row)"
   ]
  },
  {
   "cell_type": "code",
   "execution_count": 155,
   "id": "4e4742fa",
   "metadata": {},
   "outputs": [],
   "source": [
    "# 좌표 간 거리 계산\n",
    "def t_cost (find_path, cities):\n",
    "    total_cost = 0\n",
    "    \n",
    "    # 도시의 좌표 받아오기 (pos_city_2가 (idx+1이므로 len(path)-1))\n",
    "    for idx in range(len(find_path)-1):\n",
    "        pos_city_1 = [float(cities[find_path[idx]][0]), float(cities[find_path[idx]][1])]\n",
    "        pos_city_2 = [float(cities[find_path[idx+1]][0]), float(cities[find_path[idx+1]][1])]\n",
    "        \n",
    "        # 도시 간 거리 계산\n",
    "        dist = distance(pos_city_1, pos_city_2)\n",
    "        \n",
    "        total_cost += dist\n",
    "        \n",
    "    return total_cost"
   ]
  },
  {
   "cell_type": "code",
   "execution_count": 156,
   "id": "719cb1f1",
   "metadata": {},
   "outputs": [
    {
     "name": "stdout",
     "output_type": "stream",
     "text": [
      "Best Cost of Search : 42370.726376778315\n"
     ]
    }
   ],
   "source": [
    "# 완전 무작위 서치\n",
    "def search (cities, N):\n",
    "    best_cost = float(\"inf\")\n",
    "    sol_path = None\n",
    "    \n",
    "    # cities 길이만큼 list 받아와 shuffle로 리스트 순서 무작위로 섞기\n",
    "    for i in range(N):\n",
    "        find_path = list(range(len(cities)))\n",
    "        r.shuffle(path)\n",
    "        # --> or.. time 통해 일정 시간 설정해 choice로?\n",
    "        \n",
    "        # 순서 재배치\n",
    "        idx = find_path.index(0)\n",
    "        \n",
    "        front = find_path[idx:]\n",
    "        back = find_path[0:idx]\n",
    "        \n",
    "        find_path = front + back\n",
    "        \n",
    "        # 시작점으로 돌아가기\n",
    "        find_path.append(int(0)) \n",
    "        \n",
    "        # 좌표 간 거리 계산해 cost에 저장\n",
    "        cost = t_cost(find_path, cities)\n",
    "        \n",
    "        # cost가 bset_cost보다 작으면 cost 값 best_cost에 저장, path 값 sol_path에 저장\n",
    "        if cost < best_cost:\n",
    "            best_cost = cost\n",
    "            sol_path = find_path\n",
    "            \n",
    "    return best_cost, sol_path\n",
    "\n",
    "best_cost, sol = search (cities, len(cities))\n",
    "\n",
    "# solution csv 파일 만들어 sol 값 입력\n",
    "with open('solution.csv', mode='w', newline='', encoding='utf-8-sig') as solution:\n",
    "    wt = csv.writer(solution)\n",
    "    for row in sol:\n",
    "        wt.writerow([row])\n",
    "\n",
    "# Best Cost 출력\n",
    "print('Best Cost of Search : ' + str(best_cost))"
   ]
  },
  {
   "cell_type": "code",
   "execution_count": null,
   "id": "5c3ef4e8",
   "metadata": {},
   "outputs": [],
   "source": []
  }
 ],
 "metadata": {
  "kernelspec": {
   "display_name": "Python 3",
   "language": "python",
   "name": "python3"
  },
  "language_info": {
   "codemirror_mode": {
    "name": "ipython",
    "version": 3
   },
   "file_extension": ".py",
   "mimetype": "text/x-python",
   "name": "python",
   "nbconvert_exporter": "python",
   "pygments_lexer": "ipython3",
   "version": "3.8.8"
  }
 },
 "nbformat": 4,
 "nbformat_minor": 5
}
